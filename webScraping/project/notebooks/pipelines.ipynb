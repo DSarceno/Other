{
 "cells": [
  {
   "cell_type": "markdown",
   "metadata": {},
   "source": [
    "## Pipelines con diferentes tecnologías"
   ]
  },
  {
   "cell_type": "markdown",
   "metadata": {},
   "source": [
    "#### 1. Scikit-Learn"
   ]
  },
  {
   "cell_type": "code",
   "execution_count": 1,
   "metadata": {},
   "outputs": [
    {
     "name": "stdout",
     "output_type": "stream",
     "text": [
      "Accuracy: 0.96\n"
     ]
    }
   ],
   "source": [
    "from sklearn.pipeline import Pipeline\n",
    "from sklearn.preprocessing import StandardScaler\n",
    "from sklearn.decomposition import PCA\n",
    "from sklearn.ensemble import RandomForestClassifier\n",
    "from sklearn.model_selection import train_test_split\n",
    "from sklearn.datasets import load_iris\n",
    "from sklearn.metrics import accuracy_score\n",
    "\n",
    "# Cargar dataset\n",
    "data = load_iris()\n",
    "X, y = data.data, data.target\n",
    "\n",
    "# Dividir datos en conjunto de entrenamiento y prueba\n",
    "X_train, X_test, y_train, y_test = train_test_split(X, y, test_size=0.3, random_state=42)\n",
    "\n",
    "# Definir el pipeline\n",
    "pipeline = Pipeline([\n",
    "    ('scaler', StandardScaler()),            # Paso 1: Estandarización\n",
    "    ('pca', PCA(n_components=2)),            # Paso 2: Reducción de dimensionalidad con PCA\n",
    "    ('classifier', RandomForestClassifier()) # Paso 3: Modelo RandomForest\n",
    "])\n",
    "\n",
    "# Entrenar el pipeline\n",
    "pipeline.fit(X_train, y_train)\n",
    "\n",
    "# Predecir en el conjunto de prueba\n",
    "y_pred = pipeline.predict(X_test)\n",
    "\n",
    "# Evaluar el rendimiento del modelo\n",
    "accuracy = accuracy_score(y_test, y_pred)\n",
    "print(f\"Accuracy: {accuracy:.2f}\")\n"
   ]
  },
  {
   "cell_type": "markdown",
   "metadata": {},
   "source": [
    "##### 2. Pandas"
   ]
  },
  {
   "cell_type": "code",
   "execution_count": 1,
   "metadata": {},
   "outputs": [
    {
     "name": "stdout",
     "output_type": "stream",
     "text": [
      "   age  income  employed    age_group  is_unemployed\n",
      "0   25    50.0      True        Young          False\n",
      "1   32    64.0      True  Middle-aged          False\n",
      "2   47   120.0     False  Middle-aged           True\n",
      "3   51    97.0      True       Senior          False\n",
      "4   62   150.0     False       Senior           True\n"
     ]
    }
   ],
   "source": [
    "import pandas as pd\n",
    "\n",
    "# Crear un dataframe de ejemplo\n",
    "data = {\n",
    "    'age': [25, 32, 47, 51, 62],\n",
    "    'income': [50000, 64000, 120000, 97000, 150000],\n",
    "    'employed': [True, True, False, True, False]\n",
    "}\n",
    "df = pd.DataFrame(data)\n",
    "\n",
    "# Funciones de procesamiento de datos\n",
    "def categorize_age(df):\n",
    "    df['age_group'] = pd.cut(df['age'], bins=[0, 30, 50, 100], labels=['Young', 'Middle-aged', 'Senior'])\n",
    "    return df\n",
    "\n",
    "def income_to_thousands(df):\n",
    "    df['income'] = df['income'] / 1000  # Convertir a miles\n",
    "    return df\n",
    "\n",
    "def flag_unemployed(df):\n",
    "    df['is_unemployed'] = ~df['employed']  # Flag si no está empleado\n",
    "    return df\n",
    "\n",
    "# Definir pipeline de procesamiento de datos\n",
    "df_pipeline = (df\n",
    "               .pipe(categorize_age)\n",
    "               .pipe(income_to_thousands)\n",
    "               .pipe(flag_unemployed))\n",
    "\n",
    "print(df_pipeline)\n"
   ]
  },
  {
   "cell_type": "markdown",
   "metadata": {},
   "source": [
    "#### 3. Airflow"
   ]
  },
  {
   "cell_type": "code",
   "execution_count": 3,
   "metadata": {},
   "outputs": [
    {
     "name": "stderr",
     "output_type": "stream",
     "text": [
      "WARNING:root:OSError while attempting to symlink the latest log directory\n"
     ]
    },
    {
     "data": {
      "text/html": [
       "<pre style=\"white-space:pre;overflow-x:auto;line-height:normal;font-family:Menlo,'DejaVu Sans Mono',consolas,'Courier New',monospace\"><span style=\"color: #808000; text-decoration-color: #808000; font-weight: bold\">C:\\Users\\daalvarado\\AppData\\Local\\Temp\\ipykernel_27732\\</span><span style=\"color: #808000; text-decoration-color: #808000; font-weight: bold\">2821613306.</span><span style=\"color: #808000; text-decoration-color: #808000; font-weight: bold\">py:</span><span style=\"color: #808000; text-decoration-color: #808000; font-weight: bold\">2</span><span style=\"color: #808000; text-decoration-color: #808000; font-weight: bold\"> DeprecationWarning</span><span style=\"color: #808000; text-decoration-color: #808000\">: The `airflow.operators.python_operator.PythonOperator` class is deprecated. Please use `</span><span style=\"color: #808000; text-decoration-color: #808000\">'airflow.operators.python.PythonOperator'</span><span style=\"color: #808000; text-decoration-color: #808000\">`.</span>\n",
       "</pre>\n"
      ],
      "text/plain": [
       "\u001b[1;33mC:\\Users\\daalvarado\\AppData\\Local\\Temp\\ipykernel_27732\\\u001b[0m\u001b[1;33m2821613306.\u001b[0m\u001b[1;33mpy:\u001b[0m\u001b[1;33m2\u001b[0m\u001b[1;33m DeprecationWarning\u001b[0m\u001b[33m: The `airflow.operators.python_operator.PythonOperator` class is deprecated. Please use `\u001b[0m\u001b[33m'airflow.operators.python.PythonOperator'\u001b[0m\u001b[33m`.\u001b[0m\n"
      ]
     },
     "metadata": {},
     "output_type": "display_data"
    },
    {
     "data": {
      "text/html": [
       "<pre style=\"white-space:pre;overflow-x:auto;line-height:normal;font-family:Menlo,'DejaVu Sans Mono',consolas,'Courier New',monospace\"><span style=\"color: #808000; text-decoration-color: #808000; font-weight: bold\">C:\\Users\\daalvarado\\AppData\\Local\\Temp\\ipykernel_27732\\</span><span style=\"color: #808000; text-decoration-color: #808000; font-weight: bold\">2821613306.</span><span style=\"color: #808000; text-decoration-color: #808000; font-weight: bold\">py:</span><span style=\"color: #808000; text-decoration-color: #808000; font-weight: bold\">22</span><span style=\"color: #808000; text-decoration-color: #808000; font-weight: bold\"> RemovedInAirflow3Warning</span><span style=\"color: #808000; text-decoration-color: #808000\">: Param `schedule_interval` is deprecated and will be removed in a future release. Please use `schedule` instead.</span>\n",
       "</pre>\n"
      ],
      "text/plain": [
       "\u001b[1;33mC:\\Users\\daalvarado\\AppData\\Local\\Temp\\ipykernel_27732\\\u001b[0m\u001b[1;33m2821613306.\u001b[0m\u001b[1;33mpy:\u001b[0m\u001b[1;33m22\u001b[0m\u001b[1;33m RemovedInAirflow3Warning\u001b[0m\u001b[33m: Param `schedule_interval` is deprecated and will be removed in a future release. Please use `schedule` instead.\u001b[0m\n"
      ]
     },
     "metadata": {},
     "output_type": "display_data"
    }
   ],
   "source": [
    "from airflow import DAG\n",
    "from airflow.operators.python import PythonOperator\n",
    "from datetime import datetime\n",
    "\n",
    "# Definir funciones de ETL\n",
    "def extract():\n",
    "    print(\"Extrayendo datos...\")\n",
    "\n",
    "def transform():\n",
    "    print(\"Transformando datos...\")\n",
    "\n",
    "def load():\n",
    "    print(\"Cargando datos...\")\n",
    "\n",
    "# Definir DAG\n",
    "default_args = {\n",
    "    'owner': 'airflow',\n",
    "    'start_date': datetime(2023, 1, 1),\n",
    "    'retries': 1\n",
    "}\n",
    "\n",
    "with DAG('etl_pipeline', default_args=default_args, schedule='@daily') as dag:\n",
    "\n",
    "    \n",
    "    extract_task = PythonOperator(\n",
    "        task_id='extract',\n",
    "        python_callable=extract\n",
    "    )\n",
    "    \n",
    "    transform_task = PythonOperator(\n",
    "        task_id='transform',\n",
    "        python_callable=transform\n",
    "    )\n",
    "    \n",
    "    load_task = PythonOperator(\n",
    "        task_id='load',\n",
    "        python_callable=load\n",
    "    )\n",
    "    \n",
    "    # Definir orden de ejecución de las tareas\n",
    "    extract_task >> transform_task >> load_task\n"
   ]
  },
  {
   "cell_type": "code",
   "execution_count": null,
   "metadata": {},
   "outputs": [],
   "source": []
  }
 ],
 "metadata": {
  "kernelspec": {
   "display_name": "Python 3",
   "language": "python",
   "name": "python3"
  },
  "language_info": {
   "codemirror_mode": {
    "name": "ipython",
    "version": 3
   },
   "file_extension": ".py",
   "mimetype": "text/x-python",
   "name": "python",
   "nbconvert_exporter": "python",
   "pygments_lexer": "ipython3",
   "version": "3.11.4"
  }
 },
 "nbformat": 4,
 "nbformat_minor": 2
}
