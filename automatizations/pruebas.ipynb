{
 "cells": [
  {
   "cell_type": "code",
   "execution_count": 9,
   "metadata": {},
   "outputs": [],
   "source": [
    "import json"
   ]
  },
  {
   "cell_type": "code",
   "execution_count": 10,
   "metadata": {},
   "outputs": [],
   "source": [
    "with open('dietdata.json', 'r') as file:\n",
    "    data = json.load(file)\n",
    "file.close()"
   ]
  },
  {
   "cell_type": "code",
   "execution_count": 13,
   "metadata": {},
   "outputs": [
    {
     "name": "stdout",
     "output_type": "stream",
     "text": [
      "\n",
      "\n",
      "un batido con 2 bananos 250ml de leche y 1 scoop de proteína (25g de proteína)\n",
      "None\n",
      "TC-28\n",
      "\n",
      "\n",
      "1 lakimen  con 3 chorizos perri, 1 pedazo de pizza de pizza hut y 1 aguacate\n",
      "None\n",
      "TC-27\n",
      "\n",
      "\n",
      "2 huevos revueltos con 3 chorizos perri y 4 panqueques con jalea de fresa\n",
      "None\n",
      "TC-26\n",
      "\n",
      "\n",
      "una pierna de pollo picante una pechuga, 2 porciones de papas y una ensalada de repollo\n",
      "None\n",
      "TC-25\n",
      "\n",
      "\n",
      "250g de pasta de chao mein media zanahoria hervida y 100g de pollo\n",
      "None\n",
      "TC-24\n",
      "\n",
      "\n",
      "6 tiras de tocino fritas, 1 huevo estrellado y un batido con 2 bananos 250ml de leche y 1 scoop de proteína (25g de proteína)\n",
      "None\n",
      "TC-23\n",
      "\n",
      "\n",
      "1 dalmata\n",
      "None\n",
      "TC-22\n",
      "\n",
      "\n",
      "5 alitas bañadas en barbacoa y 5 camperitos empanizados de pollo campero.\n",
      "None\n",
      "TC-21\n",
      "\n",
      "\n",
      "1 pizza de 12 pulgadas mitad carnitas con rabano y guacamol y la otra mitad con un poco de salchihca, chorizo y carne azada con guacamol y repollo cocido.\n",
      "None\n",
      "TC-20\n",
      "\n",
      "\n",
      "2 huevos revueltos con 4 rodajas de jamón\n",
      "None\n",
      "TC-19\n",
      "\n",
      "\n",
      "1 laky men de vaso sabor a pollo con 2 huevos duros\n",
      "None\n",
      "TC-18\n",
      "\n",
      "\n",
      "250g de pasta de chao mein media zanahoria hervida y 100g de pollo\n",
      "None\n",
      "TC-17\n",
      "\n",
      "\n",
      "1 pupusa de queso con 50g de repollo crudo, 2 cucharadas de salsa de tomate y 2 rodajas de zanahoria en escabeche\n",
      "None\n",
      "TC-16\n",
      "\n",
      "\n",
      "2 huevos estrellados con 2 rodajas de jamón y 400ml de incaparina\n",
      "None\n",
      "TC-15\n",
      "\n",
      "\n",
      "250ml de leche descremada con 1 scoop de proteína whey (25g de proteina por scoop)\n",
      "None\n",
      "TC-14\n",
      "\n",
      "\n",
      "7 mini roscas de churros fritas con azucar\n",
      "None\n",
      "TC-13\n",
      "\n",
      "\n",
      "1 menu de triple bacon con mc patatas y 2 vasos de coca cola tradicional de 650ml\n",
      "None\n",
      "TC-12\n",
      "\n",
      "\n",
      "pan de shuco (guatemalteco), 2 salchichas, 1 cucharada de guacamol, 2 de repollo hervido, y cucharada de ketsup y 1 de mayonesa\n",
      "None\n",
      "TC-11\n",
      "\n",
      "\n",
      "2 huevos con cebollin y 100 gramos de frijoles cocidos\n",
      "None\n",
      "TC-10\n",
      "\n",
      "\n",
      "1 cuadril mediano y 1 pierna mediana de pollo ahumado y 8 papas baby fritas en mantequilla de ajo.\n",
      "None\n",
      "TC-8\n",
      "\n",
      "\n",
      "1 Burrito con carne, queso y papa acompañado de papas fritas y 1 vaso de pepsi\n",
      "None\n",
      "TC-7\n",
      "\n",
      "\n",
      "130 gramos de carne de cerdo adobada, 100 gramos de carne lomo de cerdo empanizado, 7 papas baby fritas con mantequilla de ajo, media taza de arroz precocido y 1 aguacate. Acompañado de jugo natural\n",
      "None\n",
      "TC-6\n",
      "\n",
      "\n",
      "pan de shuco (guatemalteco), 2 salchichas, 1 cucharada de guacamol, 2 de repollo hervido, y cucharada de ketsup y 1 de mayonesa\n",
      "None\n",
      "TC-5\n",
      "\n",
      "\n",
      "1 taza de incaparina, 2 huevos y 1 vaso de jamaica natural\n",
      "None\n",
      "TC-4\n"
     ]
    }
   ],
   "source": [
    "for block in data['results']:\n",
    "    id = block['properties']['ID']['unique_id']\n",
    "    print('\\n')\n",
    "    print(block['properties']['Observaciones']['rich_text'][0]['plain_text'])\n",
    "    print(block['properties']['Calorias']['number'])\n",
    "    print(id['prefix'] + '-' + str(id['number']))"
   ]
  },
  {
   "cell_type": "code",
   "execution_count": 3,
   "metadata": {},
   "outputs": [],
   "source": [
    "name = 'Google Cloud: Professional Data Engineer'\n",
    "\n",
    "with open('prueba.bat', 'w') as file:\n",
    "    file.write('@echo off\\n\\n')\n",
    "    file.write('set CURRENT_DIR=%cd%\\n\\n')\n",
    "    file.write('docker run --rm -v \"%CURRENT_DIR%:/data\" reporte\\n\\n')\n",
    "    file.write(f'ren \"%CURRENT_DIR%/main.pdf\" \"%CURRENT_DIR%/{name}.pdf\"\\n\\n\\n')\n",
    "    file.write('if %errorlevel% == 0 (\\n\\n')\n",
    "    file.write('\\techo Archivo Renombrado exitosamente.\\n\\n')\n",
    "    file.write(') else (\\n\\n')\n",
    "    file.write('\\techo Error al renombrar archivo.\\n\\n')\n",
    "    file.write(')\\n\\n\\n')\n",
    "    file.write('pause')\n",
    "file.close()"
   ]
  },
  {
   "cell_type": "code",
   "execution_count": 8,
   "metadata": {},
   "outputs": [],
   "source": [
    "roadmap = '''- Introducción a Google Cloud\n",
    "    - ¿Qué es Google Cloud?\n",
    "    - Ventajas de usar Google Cloud\n",
    "- Fundamentos de Machine Learning\n",
    "    - ¿Qué es Machine Learning?\n",
    "    - Tipos de algoritmos de Machine Learning\n",
    "    - Librerías y herramientas populares para Machine Learning en Google Cloud\n",
    "- Preparación para el examen de certificación de Google Cloud: Professional Machine Learning Engineer\n",
    "    - Estructura y detalles del examen\n",
    "    - Recursos de estudio disponibles\n",
    "- Diseño y construcción de modelos de Machine Learning en Google Cloud\n",
    "    - Selección de datos\n",
    "    - Limpieza y preprocesamiento de datos\n",
    "    - Construcción y evaluación de modelos usando herramientas de Google Cloud como AutoML, Cloud Machine Learning Engine, BigQuery ML, etc.\n",
    "- Implementación y despliegue de modelos de Machine Learning en producción en Google Cloud\n",
    "    - Generación de predicciones usando modelos desplegados\n",
    "    - Monitoreo y ajuste de modelos en producción\n",
    "    - Uso de herramientas de automatización como Kubeflow para el despliegue de modelos\n",
    "- Optimización y escalabilidad de modelos de Machine Learning en Google Cloud\n",
    "    - Mejores prácticas para mejorar el rendimiento de los modelos en Google Cloud\n",
    "    - Estrategias de escalabilidad para manejar grandes volúmenes de datos y cargas de trabajo\n",
    "    - Uso de herramientas como Cloud TPUs para mejorar la velocidad de entrenamiento de los modelos\n",
    "- Integración de soluciones de Machine Learning con otras herramientas de Google Cloud\n",
    "    - Integración con servicios de almacenamiento de datos como Google Cloud Storage y BigQuery\n",
    "    - Uso de Google Cloud Functions para crear pipelines de datos y flujos de trabajo de Machine Learning\n",
    "    - Incorporación de herramientas de análisis y visualización de datos como Google Data Studio para explorar y presentar resultados de los modelos\n",
    "- Casos de uso y ejemplos de proyectos utilizando Google Cloud Machine Learning\n",
    "    - Ejemplos de proyectos en la industria que utilizan Google Cloud para implementar soluciones de Machine Learning\n",
    "    - Estudio de casos de uso reales de empresas que han implementado modelos de Machine Learning en Google Cloud\n",
    "- Consideraciones de seguridad y cumplimiento en Google Cloud para soluciones de Machine Learning\n",
    "    - Mejores prácticas para garantizar la seguridad y privacidad de los datos utilizados en modelos de Machine Learning en la nube\n",
    "    - Cumplimiento con regulaciones y estándares como el GDPR y la Ley de Protección de Datos Personales\n",
    "- Futuras tendencias y desarrollos en Machine Learning en Google Cloud\n",
    "    - Visión general de nuevas herramientas y funcionalidades que Google está desarrollando para mejorar el uso de Machine Learning en la nube\n",
    "    - Tendencias emergentes en Machine Learning que pueden ser adoptadas en Google Cloud en el futuro\n",
    "- Práctica y preparación para el examen de certificación\n",
    "    - Ejercicios prácticos y proyectos para aplicar los conceptos y habilidades aprendidas\n",
    "    - Preparación para el examen de certificación de Google Cloud: Professional Machine Learning Engineer a través de simulacros de examen y práctica de preguntas de muestra.\n",
    "            '''"
   ]
  },
  {
   "cell_type": "code",
   "execution_count": 9,
   "metadata": {},
   "outputs": [],
   "source": [
    "r = roadmap.split('\\n')"
   ]
  },
  {
   "cell_type": "code",
   "execution_count": null,
   "metadata": {},
   "outputs": [],
   "source": [
    "desglose = []\n",
    "for line in r:\n",
    "    if line"
   ]
  },
  {
   "cell_type": "code",
   "execution_count": 14,
   "metadata": {},
   "outputs": [
    {
     "data": {
      "text/plain": [
       "'    - '"
      ]
     },
     "execution_count": 14,
     "metadata": {},
     "output_type": "execute_result"
    }
   ],
   "source": [
    "r[1][0:6]"
   ]
  },
  {
   "cell_type": "code",
   "execution_count": null,
   "metadata": {},
   "outputs": [],
   "source": []
  }
 ],
 "metadata": {
  "kernelspec": {
   "display_name": "auto",
   "language": "python",
   "name": "python3"
  },
  "language_info": {
   "codemirror_mode": {
    "name": "ipython",
    "version": 3
   },
   "file_extension": ".py",
   "mimetype": "text/x-python",
   "name": "python",
   "nbconvert_exporter": "python",
   "pygments_lexer": "ipython3",
   "version": "3.11.4"
  }
 },
 "nbformat": 4,
 "nbformat_minor": 2
}
