{
 "cells": [
  {
   "cell_type": "code",
   "execution_count": 1,
   "metadata": {},
   "outputs": [
    {
     "name": "stderr",
     "output_type": "stream",
     "text": [
      "c:\\Users\\daalvarado\\CSvenv\\Lib\\site-packages\\tqdm\\auto.py:21: TqdmWarning: IProgress not found. Please update jupyter and ipywidgets. See https://ipywidgets.readthedocs.io/en/stable/user_install.html\n",
      "  from .autonotebook import tqdm as notebook_tqdm\n"
     ]
    }
   ],
   "source": [
    "# project\n",
    "from src.data_preprocessing import data_text_management, text_management, tokenizer_transform\n",
    "from src.utils import performance\n",
    "\n",
    "# libraries\n",
    "import pandas as pd\n",
    "import numpy as np\n",
    "import json\n",
    "import warnings\n",
    "\n",
    "# model libraries\n",
    "import tensorflow as tf\n",
    "import keras\n",
    "from tensorflow.keras.models import load_model\n",
    "from tensorflow.keras.preprocessing.text import tokenizer_from_json\n",
    "from tensorflow.keras.preprocessing import sequence\n",
    "\n",
    "warnings.filterwarnings('ignore')"
   ]
  },
  {
   "cell_type": "code",
   "execution_count": 2,
   "metadata": {},
   "outputs": [],
   "source": [
    "# creamos el objeto\n",
    "dtm = data_text_management()"
   ]
  },
  {
   "cell_type": "code",
   "execution_count": 3,
   "metadata": {},
   "outputs": [
    {
     "name": "stdout",
     "output_type": "stream",
     "text": [
      "AttributeError: module 'ml_dtypes' has no attribute 'float8_e3m4'\n"
     ]
    }
   ],
   "source": [
    "# llamamos al modelo\n",
    "ruta_modelo = r'./model/my_model.keras'\n",
    "#ruta_modelo = r'model/my_model.keras'\n",
    "model = load_model(ruta_modelo)"
   ]
  },
  {
   "cell_type": "code",
   "execution_count": 4,
   "metadata": {},
   "outputs": [],
   "source": [
    "prueba = [\n",
    "    \"El café en este lugar es increíblemente aromático y el ambiente es perfecto para relajarse. ¡Muy recomendado!\",\n",
    "    \"El servicio fue lento y las porciones pequeñas para el precio. No lo recomendaría.\",\n",
    "    \"El libro tiene una trama cautivadora y personajes memorables. Me mantuvo enganchado de principio a fin.\",\n",
    "    \"La película fue predecible y los efectos especiales parecían anticuados. Me decepcionó.\",\n",
    "    \"Este champú dejó mi cabello suave y brillante, y el aroma es maravilloso. Definitivamente lo volveré a comprar.\",\n",
    "    \"La aplicación se traba constantemente y consume mucha batería. No vale la pena descargarla.\",\n",
    "    \"La chaqueta es súper cómoda y tiene un diseño moderno. Perfecta para el invierno.\",\n",
    "    \"La comida llegó fría y con un sabor mediocre. No volveré a pedir de aquí.\",\n",
    "    \"El curso es muy claro y los ejemplos son prácticos. Aprendí muchísimo en poco tiempo.\",\n",
    "    \"Las instrucciones no eran claras y el producto vino defectuoso. Un desperdicio de dinero.\"\n",
    "]\n",
    "sentimiento = [\n",
    "    'positivo',\n",
    "    'negativo',\n",
    "    'positivo',\n",
    "    'negativo',\n",
    "    'positivo',\n",
    "    'negativo',\n",
    "    'positivo',\n",
    "    'negativo',\n",
    "    'positivo',\n",
    "    'negativo'\n",
    "]\n",
    "resenias = pd.DataFrame({'review_es': prueba, 'sentimiento': sentimiento})\n",
    "resenias = resenias.sample(frac=1)"
   ]
  },
  {
   "cell_type": "code",
   "execution_count": 5,
   "metadata": {},
   "outputs": [],
   "source": [
    "# limpiando el texto de la reseña\n",
    "resenias = dtm.cleaning_pipeline(resenias, 'review_es', 'review_es_mod')"
   ]
  },
  {
   "cell_type": "code",
   "execution_count": 6,
   "metadata": {},
   "outputs": [],
   "source": [
    "# cambiamos las etiquetas a número entero\n",
    "resenias['sentimiento_token'] = resenias['sentimiento'].map({'positivo' : 1, 'negativo' : 0})"
   ]
  },
  {
   "cell_type": "code",
   "execution_count": 7,
   "metadata": {},
   "outputs": [],
   "source": [
    "# cargamos el tokenizador\n",
    "with open(r'./model/cs_tokenizer.json') as token:\n",
    "    data = json.load(token)\n",
    "    tokenizer = tokenizer_from_json(data)"
   ]
  },
  {
   "cell_type": "code",
   "execution_count": 8,
   "metadata": {},
   "outputs": [],
   "source": [
    "# cargamos el maxlen\n",
    "with open(r'./model/maxlen', 'r') as ml:\n",
    "    maxlen = int(ml.read())"
   ]
  },
  {
   "cell_type": "code",
   "execution_count": 9,
   "metadata": {},
   "outputs": [],
   "source": [
    "# tokenizamos\n",
    "review_text_resenias = tokenizer.texts_to_sequences(resenias['review_es_mod'])"
   ]
  },
  {
   "cell_type": "code",
   "execution_count": 10,
   "metadata": {},
   "outputs": [],
   "source": [
    "# ajustamos el tamaño del array\n",
    "review_text_resenias = sequence.pad_sequences(review_text_resenias, maxlen=maxlen, padding='post')"
   ]
  },
  {
   "cell_type": "code",
   "execution_count": 11,
   "metadata": {},
   "outputs": [
    {
     "name": "stdout",
     "output_type": "stream",
     "text": [
      "\u001b[1m1/1\u001b[0m \u001b[32m━━━━━━━━━━━━━━━━━━━━\u001b[0m\u001b[37m\u001b[0m \u001b[1m0s\u001b[0m 342ms/step\n"
     ]
    }
   ],
   "source": [
    "# realizamos la predicción\n",
    "prediccion = model.predict(review_text_resenias)"
   ]
  },
  {
   "cell_type": "code",
   "execution_count": 12,
   "metadata": {},
   "outputs": [
    {
     "data": {
      "text/plain": [
       "array([[0.4060521 , 0.6255288 ],\n",
       "       [0.83040816, 0.33909693],\n",
       "       [0.7358229 , 0.42251828],\n",
       "       [0.2581272 , 0.73658586],\n",
       "       [0.16971155, 0.8247856 ],\n",
       "       [0.2281016 , 0.77892953],\n",
       "       [0.5757233 , 0.51500374],\n",
       "       [0.8021835 , 0.35772872],\n",
       "       [0.1413466 , 0.855077  ],\n",
       "       [0.8556688 , 0.32632038]], dtype=float32)"
      ]
     },
     "execution_count": 12,
     "metadata": {},
     "output_type": "execute_result"
    }
   ],
   "source": [
    "# vemos el array de la predicción y tomamos el valor más grande\n",
    "prediccion"
   ]
  },
  {
   "cell_type": "code",
   "execution_count": 13,
   "metadata": {},
   "outputs": [],
   "source": [
    "# extraemos el índice de la celda con mayor número por fila, este es el resultado de la prediccion\n",
    "prediccion_clase = prediccion.argmax(axis=-1)"
   ]
  },
  {
   "cell_type": "code",
   "execution_count": 14,
   "metadata": {},
   "outputs": [],
   "source": [
    "# lo agregamos al dataframe\n",
    "resenias['predicted'] = prediccion_clase"
   ]
  },
  {
   "cell_type": "code",
   "execution_count": 15,
   "metadata": {},
   "outputs": [],
   "source": [
    "# mapeamos de los tokens a positivo/negativo\n",
    "resenias['predicted_text'] = resenias['predicted'].map({1 : 'positivo', 0 : 'negativo'})"
   ]
  },
  {
   "cell_type": "markdown",
   "metadata": {},
   "source": [
    "#### probando con un conjunto de datos más grande\n",
    "\n",
    "Dataset: ./data/netflix/film_reviews_result.csv"
   ]
  },
  {
   "cell_type": "code",
   "execution_count": 16,
   "metadata": {},
   "outputs": [],
   "source": [
    "# importamos el dataset mayor\n",
    "netflix = pd.read_csv(r'./data/netflix/film_reviews_result.csv', sep='|')"
   ]
  },
  {
   "cell_type": "code",
   "execution_count": 17,
   "metadata": {},
   "outputs": [],
   "source": [
    "# extraemos las columnas útiles\n",
    "netflixuseful = netflix[['film_name', 'review_text', 'review_rate']]"
   ]
  },
  {
   "cell_type": "code",
   "execution_count": 18,
   "metadata": {},
   "outputs": [
    {
     "data": {
      "text/html": [
       "<div>\n",
       "<style scoped>\n",
       "    .dataframe tbody tr th:only-of-type {\n",
       "        vertical-align: middle;\n",
       "    }\n",
       "\n",
       "    .dataframe tbody tr th {\n",
       "        vertical-align: top;\n",
       "    }\n",
       "\n",
       "    .dataframe thead th {\n",
       "        text-align: right;\n",
       "    }\n",
       "</style>\n",
       "<table border=\"1\" class=\"dataframe\">\n",
       "  <thead>\n",
       "    <tr style=\"text-align: right;\">\n",
       "      <th></th>\n",
       "      <th>film_name</th>\n",
       "      <th>review_text</th>\n",
       "      <th>review_rate</th>\n",
       "      <th>review_text_mod</th>\n",
       "    </tr>\n",
       "  </thead>\n",
       "  <tbody>\n",
       "    <tr>\n",
       "      <th>0</th>\n",
       "      <td>Respira (Serie de TV)</td>\n",
       "      <td>Como fan de las series españolas y de Najwa, e...</td>\n",
       "      <td>1</td>\n",
       "      <td>fan serie español Najwa doler serie malo Manu ...</td>\n",
       "    </tr>\n",
       "    <tr>\n",
       "      <th>1</th>\n",
       "      <td>Respira (Serie de TV)</td>\n",
       "      <td>Todo lo malo que puede tener una serie lo pose...</td>\n",
       "      <td>2</td>\n",
       "      <td>malo poder tener serie poseer Respira diálogo ...</td>\n",
       "    </tr>\n",
       "    <tr>\n",
       "      <th>2</th>\n",
       "      <td>Respira (Serie de TV)</td>\n",
       "      <td>La serie es un drama médico que intenta \"copia...</td>\n",
       "      <td>1</td>\n",
       "      <td>serie drama médico intentar copiar estilema ya...</td>\n",
       "    </tr>\n",
       "    <tr>\n",
       "      <th>3</th>\n",
       "      <td>Respira (Serie de TV)</td>\n",
       "      <td>Nadie te obliga a ver nada que no quieras ver ...</td>\n",
       "      <td>1</td>\n",
       "      <td>nadie obligar ver querer ver si dinero público...</td>\n",
       "    </tr>\n",
       "    <tr>\n",
       "      <th>4</th>\n",
       "      <td>Respira (Serie de TV)</td>\n",
       "      <td>Está serie da vergüenza ajena. Una serie donde...</td>\n",
       "      <td>1</td>\n",
       "      <td>serie dar vergüenza ajenir serie parecer único...</td>\n",
       "    </tr>\n",
       "    <tr>\n",
       "      <th>...</th>\n",
       "      <td>...</td>\n",
       "      <td>...</td>\n",
       "      <td>...</td>\n",
       "      <td>...</td>\n",
       "    </tr>\n",
       "    <tr>\n",
       "      <th>10053</th>\n",
       "      <td>Confiesa, Fletch</td>\n",
       "      <td>Un misterioso asesinato provoca diversión y de...</td>\n",
       "      <td>6</td>\n",
       "      <td>misterioso asesinato provocar diversión descon...</td>\n",
       "    </tr>\n",
       "    <tr>\n",
       "      <th>10054</th>\n",
       "      <td>Confiesa, Fletch</td>\n",
       "      <td>Empieza bien, pero va perdiendo fuerza y coher...</td>\n",
       "      <td>4</td>\n",
       "      <td>empezar bien ir perder fuerza coherencia medid...</td>\n",
       "    </tr>\n",
       "    <tr>\n",
       "      <th>10055</th>\n",
       "      <td>Pesadillas y ensoñaciones: El huérfano (TV)</td>\n",
       "      <td>Segunda entrega de la serie \"Pesadillas y enso...</td>\n",
       "      <td>4</td>\n",
       "      <td>segundo entrega serie Pesadillas ensoñación pa...</td>\n",
       "    </tr>\n",
       "    <tr>\n",
       "      <th>10056</th>\n",
       "      <td>Pesadillas y ensoñaciones: La vieja casa (TV)</td>\n",
       "      <td>Con Old House comienza la serie de siete episo...</td>\n",
       "      <td>5</td>\n",
       "      <td>Old House comenzar serie siete episodio Pesadi...</td>\n",
       "    </tr>\n",
       "    <tr>\n",
       "      <th>10057</th>\n",
       "      <td>Pesadillas y ensoñaciones: Poema y dolor (TV)</td>\n",
       "      <td>Tercera entrega de \"Pesadillas y ensoñaciones\"...</td>\n",
       "      <td>5</td>\n",
       "      <td>tercero entregar Pesadillas ensoñación escrito...</td>\n",
       "    </tr>\n",
       "  </tbody>\n",
       "</table>\n",
       "<p>10058 rows × 4 columns</p>\n",
       "</div>"
      ],
      "text/plain": [
       "                                           film_name  \\\n",
       "0                              Respira (Serie de TV)   \n",
       "1                              Respira (Serie de TV)   \n",
       "2                              Respira (Serie de TV)   \n",
       "3                              Respira (Serie de TV)   \n",
       "4                              Respira (Serie de TV)   \n",
       "...                                              ...   \n",
       "10053                              Confiesa, Fletch    \n",
       "10054                              Confiesa, Fletch    \n",
       "10055    Pesadillas y ensoñaciones: El huérfano (TV)   \n",
       "10056  Pesadillas y ensoñaciones: La vieja casa (TV)   \n",
       "10057  Pesadillas y ensoñaciones: Poema y dolor (TV)   \n",
       "\n",
       "                                             review_text  review_rate  \\\n",
       "0      Como fan de las series españolas y de Najwa, e...            1   \n",
       "1      Todo lo malo que puede tener una serie lo pose...            2   \n",
       "2      La serie es un drama médico que intenta \"copia...            1   \n",
       "3      Nadie te obliga a ver nada que no quieras ver ...            1   \n",
       "4      Está serie da vergüenza ajena. Una serie donde...            1   \n",
       "...                                                  ...          ...   \n",
       "10053  Un misterioso asesinato provoca diversión y de...            6   \n",
       "10054  Empieza bien, pero va perdiendo fuerza y coher...            4   \n",
       "10055  Segunda entrega de la serie \"Pesadillas y enso...            4   \n",
       "10056  Con Old House comienza la serie de siete episo...            5   \n",
       "10057  Tercera entrega de \"Pesadillas y ensoñaciones\"...            5   \n",
       "\n",
       "                                         review_text_mod  \n",
       "0      fan serie español Najwa doler serie malo Manu ...  \n",
       "1      malo poder tener serie poseer Respira diálogo ...  \n",
       "2      serie drama médico intentar copiar estilema ya...  \n",
       "3      nadie obligar ver querer ver si dinero público...  \n",
       "4      serie dar vergüenza ajenir serie parecer único...  \n",
       "...                                                  ...  \n",
       "10053  misterioso asesinato provocar diversión descon...  \n",
       "10054  empezar bien ir perder fuerza coherencia medid...  \n",
       "10055  segundo entrega serie Pesadillas ensoñación pa...  \n",
       "10056  Old House comenzar serie siete episodio Pesadi...  \n",
       "10057  tercero entregar Pesadillas ensoñación escrito...  \n",
       "\n",
       "[10058 rows x 4 columns]"
      ]
     },
     "execution_count": 18,
     "metadata": {},
     "output_type": "execute_result"
    }
   ],
   "source": [
    "# limpiamos y lemmatizamos el texto\n",
    "dtm.cleaning_pipeline(netflixuseful, 'review_text', 'review_text_mod')"
   ]
  },
  {
   "cell_type": "code",
   "execution_count": 19,
   "metadata": {},
   "outputs": [],
   "source": [
    "# creamos una función que transforme una nota de entre 0-10 a binario\n",
    "def rating(df : pd.DataFrame, col_in : str | int, col_out : str | int) -> pd.DataFrame:\n",
    "    conditions = [\n",
    "        (df[col_in] >= 0) & (df[col_in] <= 5),\n",
    "        (df[col_in] > 5) & (df[col_in] <= 10)]\n",
    "    labels = [0, 1]\n",
    "    df[col_out] = np.select(conditions, labels, default=np.nan)\n",
    "    return df"
   ]
  },
  {
   "cell_type": "code",
   "execution_count": 20,
   "metadata": {},
   "outputs": [],
   "source": [
    "# aplicamos la función\n",
    "netflixuseful = rating(netflixuseful, 'review_rate', 'review_rate_binary')"
   ]
  },
  {
   "cell_type": "code",
   "execution_count": 21,
   "metadata": {},
   "outputs": [],
   "source": [
    "# cambiamos el dato de float a entero\n",
    "netflixuseful['review_rate_binary'] = netflixuseful['review_rate_binary'].astype('Int64')"
   ]
  },
  {
   "cell_type": "code",
   "execution_count": 22,
   "metadata": {},
   "outputs": [],
   "source": [
    "# cargamos el tokenizador\n",
    "with open(r'./model/cs_tokenizer.json') as token:\n",
    "    data = json.load(token)\n",
    "    tokenizer = tokenizer_from_json(data)\n",
    "\n",
    "# cargamos el maxlen\n",
    "with open(r'./model/maxlen', 'r') as ml:\n",
    "    maxlen = int(ml.read())"
   ]
  },
  {
   "cell_type": "code",
   "execution_count": 23,
   "metadata": {},
   "outputs": [],
   "source": [
    "# tokenizamos\n",
    "review_text_mod = tokenizer.texts_to_sequences(netflixuseful['review_text_mod'])\n",
    "\n",
    "# ajustamos el tamaño del array\n",
    "review_text_mod = sequence.pad_sequences(review_text_mod, maxlen=maxlen, padding='post')"
   ]
  },
  {
   "cell_type": "code",
   "execution_count": 24,
   "metadata": {},
   "outputs": [
    {
     "name": "stdout",
     "output_type": "stream",
     "text": [
      "\u001b[1m315/315\u001b[0m \u001b[32m━━━━━━━━━━━━━━━━━━━━\u001b[0m\u001b[37m\u001b[0m \u001b[1m41s\u001b[0m 131ms/step\n"
     ]
    }
   ],
   "source": [
    "# realizamos la predicción\n",
    "prediccion = model.predict(review_text_mod)"
   ]
  },
  {
   "cell_type": "code",
   "execution_count": 25,
   "metadata": {},
   "outputs": [
    {
     "data": {
      "text/plain": [
       "array([[0.9759574 , 0.16008608],\n",
       "       [0.9102827 , 0.27514493],\n",
       "       [0.6606826 , 0.50130135],\n",
       "       ...,\n",
       "       [0.9563676 , 0.21101898],\n",
       "       [0.50294805, 0.62683856],\n",
       "       [0.57258785, 0.6007124 ]], dtype=float32)"
      ]
     },
     "execution_count": 25,
     "metadata": {},
     "output_type": "execute_result"
    }
   ],
   "source": [
    "# vemos el array de la predicción y tomamos el valor más grande\n",
    "prediccion"
   ]
  },
  {
   "cell_type": "code",
   "execution_count": 26,
   "metadata": {},
   "outputs": [],
   "source": [
    "# extraemos el índice de la celda con mayor número por fila, este es el resultado de la prediccion\n",
    "prediccion_clase = prediccion.argmax(axis=-1)"
   ]
  },
  {
   "cell_type": "code",
   "execution_count": 27,
   "metadata": {},
   "outputs": [],
   "source": [
    "# lo agregamos al dataframe\n",
    "netflixuseful['predicted'] = prediccion_clase"
   ]
  },
  {
   "cell_type": "code",
   "execution_count": 28,
   "metadata": {},
   "outputs": [],
   "source": [
    "# mapeamos de los tokens a positivo/negativo\n",
    "netflixuseful['predicted_text'] = netflixuseful['predicted'].map({1 : 'positivo', 0 : 'negativo'})"
   ]
  },
  {
   "cell_type": "code",
   "execution_count": 30,
   "metadata": {},
   "outputs": [],
   "source": [
    "netflixuseful['Accuracy'] = netflixuseful['review_rate_binary'] == netflixuseful['predicted']"
   ]
  },
  {
   "cell_type": "code",
   "execution_count": 41,
   "metadata": {},
   "outputs": [
    {
     "data": {
      "text/plain": [
       "77.32153509644064"
      ]
     },
     "execution_count": 41,
     "metadata": {},
     "output_type": "execute_result"
    }
   ],
   "source": [
    "# porcentaje aciertos\n",
    "accuracy = netflixuseful.groupby(by='Accuracy').size()\n",
    "accuracy_per = accuracy[1] / (accuracy[0] + accuracy[1])\n",
    "accuracy_per*100"
   ]
  },
  {
   "cell_type": "code",
   "execution_count": null,
   "metadata": {},
   "outputs": [],
   "source": []
  }
 ],
 "metadata": {
  "kernelspec": {
   "display_name": "CSvenv",
   "language": "python",
   "name": "python3"
  },
  "language_info": {
   "codemirror_mode": {
    "name": "ipython",
    "version": 3
   },
   "file_extension": ".py",
   "mimetype": "text/x-python",
   "name": "python",
   "nbconvert_exporter": "python",
   "pygments_lexer": "ipython3",
   "version": "3.11.4"
  }
 },
 "nbformat": 4,
 "nbformat_minor": 2
}
