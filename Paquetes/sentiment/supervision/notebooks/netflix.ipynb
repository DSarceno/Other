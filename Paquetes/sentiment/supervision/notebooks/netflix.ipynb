{
 "cells": [
  {
   "cell_type": "code",
   "execution_count": 1,
   "metadata": {},
   "outputs": [
    {
     "name": "stderr",
     "output_type": "stream",
     "text": [
      "c:\\Users\\daalvarado\\CSvenv\\Lib\\site-packages\\tqdm\\auto.py:21: TqdmWarning: IProgress not found. Please update jupyter and ipywidgets. See https://ipywidgets.readthedocs.io/en/stable/user_install.html\n",
      "  from .autonotebook import tqdm as notebook_tqdm\n"
     ]
    }
   ],
   "source": [
    "import pandas as pd\n",
    "import matplotlib.pyplot as plt\n",
    "import numpy as np\n",
    "import re\n",
    "\n",
    "# librerías para el texto\n",
    "import nltk\n",
    "from nltk.corpus import stopwords\n",
    "import spacy\n",
    "\n",
    "\n",
    "import torch\n",
    "from transformers import BertTokenizer, BertModel"
   ]
  },
  {
   "cell_type": "code",
   "execution_count": 2,
   "metadata": {},
   "outputs": [],
   "source": [
    "netflix = pd.read_csv(r'../data/netflix/film_reviews_result.csv', sep='|', encoding='utf-8')"
   ]
  },
  {
   "cell_type": "code",
   "execution_count": 3,
   "metadata": {},
   "outputs": [
    {
     "name": "stdout",
     "output_type": "stream",
     "text": [
      "<class 'pandas.core.frame.DataFrame'>\n",
      "RangeIndex: 10058 entries, 0 to 10057\n",
      "Data columns (total 6 columns):\n",
      " #   Column         Non-Null Count  Dtype \n",
      "---  ------         --------------  ----- \n",
      " 0   film_name      10058 non-null  object\n",
      " 1   gender         10058 non-null  object\n",
      " 2   film_avg_rate  10058 non-null  object\n",
      " 3   review_rate    10058 non-null  int64 \n",
      " 4   review_title   10058 non-null  object\n",
      " 5   review_text    10058 non-null  object\n",
      "dtypes: int64(1), object(5)\n",
      "memory usage: 471.6+ KB\n"
     ]
    }
   ],
   "source": [
    "netflix.info()"
   ]
  },
  {
   "cell_type": "code",
   "execution_count": 4,
   "metadata": {},
   "outputs": [],
   "source": [
    "netflix_gp = netflix.groupby(by='film_name').agg(\n",
    "        conteo=('film_name', 'size'),\n",
    "        avg_review=('review_rate', 'mean')\n",
    "    ).reset_index().sort_values(by=['conteo', 'avg_review'], ascending=False)"
   ]
  },
  {
   "cell_type": "code",
   "execution_count": 5,
   "metadata": {},
   "outputs": [],
   "source": [
    "netflix_gp_maxrate = netflix_gp[netflix_gp['avg_review'] == netflix_gp['avg_review'].max()]"
   ]
  },
  {
   "cell_type": "code",
   "execution_count": 6,
   "metadata": {},
   "outputs": [
    {
     "data": {
      "text/html": [
       "<div>\n",
       "<style scoped>\n",
       "    .dataframe tbody tr th:only-of-type {\n",
       "        vertical-align: middle;\n",
       "    }\n",
       "\n",
       "    .dataframe tbody tr th {\n",
       "        vertical-align: top;\n",
       "    }\n",
       "\n",
       "    .dataframe thead th {\n",
       "        text-align: right;\n",
       "    }\n",
       "</style>\n",
       "<table border=\"1\" class=\"dataframe\">\n",
       "  <thead>\n",
       "    <tr style=\"text-align: right;\">\n",
       "      <th></th>\n",
       "      <th>film_name</th>\n",
       "      <th>conteo</th>\n",
       "      <th>avg_review</th>\n",
       "    </tr>\n",
       "  </thead>\n",
       "  <tbody>\n",
       "    <tr>\n",
       "      <th>113</th>\n",
       "      <td>Cortar por la línea de puntos (Miniserie de TV)</td>\n",
       "      <td>21</td>\n",
       "      <td>8.809524</td>\n",
       "    </tr>\n",
       "  </tbody>\n",
       "</table>\n",
       "</div>"
      ],
      "text/plain": [
       "                                           film_name  conteo  avg_review\n",
       "113  Cortar por la línea de puntos (Miniserie de TV)      21    8.809524"
      ]
     },
     "execution_count": 6,
     "metadata": {},
     "output_type": "execute_result"
    }
   ],
   "source": [
    "netflix_gp_t = netflix_gp[netflix_gp['conteo'] >= 10]\n",
    "netflix_gp_maxrate_mtt = netflix_gp_t[netflix_gp_t['avg_review'] == netflix_gp_t['avg_review'].max()]\n",
    "netflix_gp_maxrate_mtt"
   ]
  },
  {
   "cell_type": "code",
   "execution_count": 7,
   "metadata": {},
   "outputs": [
    {
     "data": {
      "text/plain": [
       "<Axes: >"
      ]
     },
     "execution_count": 7,
     "metadata": {},
     "output_type": "execute_result"
    },
    {
     "data": {
      "image/png": "[encoded data removed]",
      "text/plain": [
       "<Figure size 640x480 with 1 Axes>"
      ]
     },
     "metadata": {},
     "output_type": "display_data"
    }
   ],
   "source": [
    "netflix_gp['avg_review'].round(decimals=0).hist()"
   ]
  },
  {
   "cell_type": "code",
   "execution_count": 8,
   "metadata": {},
   "outputs": [
    {
     "data": {
      "text/html": [
       "<div>\n",
       "<style scoped>\n",
       "    .dataframe tbody tr th:only-of-type {\n",
       "        vertical-align: middle;\n",
       "    }\n",
       "\n",
       "    .dataframe tbody tr th {\n",
       "        vertical-align: top;\n",
       "    }\n",
       "\n",
       "    .dataframe thead th {\n",
       "        text-align: right;\n",
       "    }\n",
       "</style>\n",
       "<table border=\"1\" class=\"dataframe\">\n",
       "  <thead>\n",
       "    <tr style=\"text-align: right;\">\n",
       "      <th></th>\n",
       "      <th>conteo</th>\n",
       "      <th>avg_review</th>\n",
       "    </tr>\n",
       "  </thead>\n",
       "  <tbody>\n",
       "    <tr>\n",
       "      <th>0</th>\n",
       "      <td>1</td>\n",
       "      <td>5.794702</td>\n",
       "    </tr>\n",
       "    <tr>\n",
       "      <th>1</th>\n",
       "      <td>2</td>\n",
       "      <td>5.908602</td>\n",
       "    </tr>\n",
       "    <tr>\n",
       "      <th>2</th>\n",
       "      <td>3</td>\n",
       "      <td>5.650602</td>\n",
       "    </tr>\n",
       "    <tr>\n",
       "      <th>3</th>\n",
       "      <td>4</td>\n",
       "      <td>5.812500</td>\n",
       "    </tr>\n",
       "    <tr>\n",
       "      <th>4</th>\n",
       "      <td>5</td>\n",
       "      <td>6.204348</td>\n",
       "    </tr>\n",
       "    <tr>\n",
       "      <th>...</th>\n",
       "      <td>...</td>\n",
       "      <td>...</td>\n",
       "    </tr>\n",
       "    <tr>\n",
       "      <th>75</th>\n",
       "      <td>196</td>\n",
       "      <td>6.362245</td>\n",
       "    </tr>\n",
       "    <tr>\n",
       "      <th>76</th>\n",
       "      <td>246</td>\n",
       "      <td>6.987805</td>\n",
       "    </tr>\n",
       "    <tr>\n",
       "      <th>77</th>\n",
       "      <td>271</td>\n",
       "      <td>7.302583</td>\n",
       "    </tr>\n",
       "    <tr>\n",
       "      <th>78</th>\n",
       "      <td>320</td>\n",
       "      <td>6.303125</td>\n",
       "    </tr>\n",
       "    <tr>\n",
       "      <th>79</th>\n",
       "      <td>339</td>\n",
       "      <td>5.330383</td>\n",
       "    </tr>\n",
       "  </tbody>\n",
       "</table>\n",
       "<p>80 rows × 2 columns</p>\n",
       "</div>"
      ],
      "text/plain": [
       "    conteo  avg_review\n",
       "0        1    5.794702\n",
       "1        2    5.908602\n",
       "2        3    5.650602\n",
       "3        4    5.812500\n",
       "4        5    6.204348\n",
       "..     ...         ...\n",
       "75     196    6.362245\n",
       "76     246    6.987805\n",
       "77     271    7.302583\n",
       "78     320    6.303125\n",
       "79     339    5.330383\n",
       "\n",
       "[80 rows x 2 columns]"
      ]
     },
     "execution_count": 8,
     "metadata": {},
     "output_type": "execute_result"
    }
   ],
   "source": [
    "barplot = netflix_gp.groupby('conteo').mean('avg_review').reset_index()\n",
    "barplot"
   ]
  },
  {
   "cell_type": "code",
   "execution_count": 9,
   "metadata": {},
   "outputs": [],
   "source": [
    "netflix_cutted = netflix\n",
    "#conditions = [(netflix_cutted['review_rate'] >= 0) & (netflix_cutted['review_rate'] < 4),\n",
    "#              (netflix_cutted['review_rate'] >= 4) & (netflix_cutted['review_rate'] <= 6),\n",
    "#              (netflix_cutted['review_rate'] > 6) & (netflix_cutted['review_rate'] <= 10)]\n",
    "#labels = ['Mala', 'Pasable/Normal', 'Buena']\n",
    "#netflix_cutted['Divition'] = np.select(conditions, labels, default=np.nan)"
   ]
  },
  {
   "cell_type": "code",
   "execution_count": 10,
   "metadata": {},
   "outputs": [],
   "source": [
    "stop_words = set(stopwords.words('spanish'))"
   ]
  },
  {
   "cell_type": "code",
   "execution_count": 11,
   "metadata": {},
   "outputs": [],
   "source": [
    "# APLICADO A CADENAS DE TEXTO\n",
    "def remove_stop_words(text : str) -> str:\n",
    "    words = text.split()\n",
    "    cleaned_words = [word for word in words if word.lower() not in stop_words]\n",
    "    return ' '.join(cleaned_words)\n",
    "\n",
    "def eliminar_etiquetas_html(texto : str) -> str:\n",
    "    # Usamos una expresión regular para buscar y eliminar etiquetas HTML\n",
    "    texto_limpio = re.sub(r'<.*?>', '', texto)\n",
    "    return texto_limpio\n",
    "\n",
    "def limpiar_texto(texto : str) -> str:\n",
    "    # Eliminar caracteres especiales o no alfanuméricos\n",
    "    return re.sub(r'[^A-Za-z0-9 ]+', '', texto)\n",
    "\n",
    "def lemmatizador(text : str) -> str:\n",
    "    # cargamos el modelo en espaniol\n",
    "    nlp = spacy.load(\"es_core_news_sm\")\n",
    "\n",
    "    # procesamos el texto\n",
    "    processed = nlp(text)\n",
    "\n",
    "    # Extraemos los lemas\n",
    "    lemmas = [token.lemma_ for token in processed]\n",
    "\n",
    "    return ' '.join(lemmas)\n",
    "\n",
    "\n",
    "def caracteres_especiales(texto : str) -> str:\n",
    "    return re.sub(r'[^\\w\\s]', ' ', texto)\n",
    "\n",
    "def espacios_extra(texto : str) -> str:\n",
    "    return re.sub(r'\\s+', ' ', texto).strip()\n",
    "\n",
    "\n",
    "\n",
    "# APLICADO A COLUMNAS\n",
    "\n",
    "# Función para eliminar etiquetas HTML de una columna\n",
    "def eliminar_etiquetas_html2(df : pd.DataFrame, col_in : str | int, col_out : str | int) -> pd.DataFrame:\n",
    "    df[col_out] = df[col_in].apply(lambda x: re.sub(r'<.*?>', '', x) if isinstance(x, str) else x)\n",
    "    return df\n",
    "\n",
    "# Función para limpiar caracteres especiales de una columna\n",
    "def limpiar_texto2(df : pd.DataFrame, col_in : str | int, col_out : str | int) -> pd.DataFrame:\n",
    "    df[col_out] = df[col_in].apply(lambda x: re.sub(r'[^\\w\\s.,]', '', x) if isinstance(x, str) else x)\n",
    "    return df\n",
    "\n",
    "# ------------->\n",
    "# correción de funcion para limpiar caracteres especiales\n",
    "def caracteres_especiales2(df : pd.DataFrame, col_in : str | int, col_out : str | int) -> pd.DataFrame:\n",
    "    df[col_out] = df[col_in].apply(lambda x: re.sub(r'[^\\w\\s]', ' ', x) if isinstance(x, str) else x)\n",
    "    return df\n",
    "\n",
    "def espacios_extra2(df : pd.DataFrame, col_in : str | int, col_out : str | int) -> pd.DataFrame:\n",
    "    df[col_out] = df[col_in].apply(lambda x: re.sub(r'\\s+', ' ', x).strip() if isinstance(x, str) else x)\n",
    "    return df\n",
    "# ------------->\n",
    "\n",
    "# Función para eliminar palabras vacías de una columna\n",
    "def remove_stop_words2(df : pd.DataFrame, col_in : str | int, col_out : str | int) -> pd.DataFrame:\n",
    "    df[col_out] = df[col_in].apply(lambda x: ' '.join([word for word in x.split() if word.lower() not in stop_words]) if isinstance(x, str) else x)\n",
    "    return df\n",
    "\n",
    "def lemmatizador2(df : pd.DataFrame, col_in : str | int, col_out : str | int) -> pd.DataFrame:\n",
    "    # cargamos el modelo en espaniol\n",
    "    nlp = spacy.load('es_core_news_sm')\n",
    "\n",
    "    # aplicamos a cada fila de la columna entrada\n",
    "    df[col_out] = df[col_in].apply(\n",
    "        lambda x: ' '.join([token.lemma_ for token in nlp(x)]) if isinstance(x, str) else x\n",
    "    )\n",
    "    return df\n",
    "\n",
    "def rating(df : pd.DataFrame, col_in : str | int, col_out : str | int) -> pd.DataFrame:\n",
    "    conditions = [\n",
    "        (df[col_in] >= 0) & (df[col_in] < 4),\n",
    "        (df[col_in] >= 4) & (df[col_in] <= 6),\n",
    "        (df[col_in] > 6) & (df[col_in] <= 10)]\n",
    "    labels = ['Mala', 'Pasable/Normal', 'Buena']\n",
    "    df[col_out] = np.select(conditions, labels, default=np.nan)\n",
    "    return df\n",
    "\n",
    "\n",
    "def rating_token(df : pd.DataFrame, col_in : str | int, col_out : str | int) -> pd.DataFrame:\n",
    "    conditions = [\n",
    "        (df[col_in] >= 0) & (df[col_in] <= 5),\n",
    "        (df[col_in] >= 6) & (df[col_in] <= 10)]\n",
    "    labels = [0, 1]\n",
    "    df[col_out] = np.select(conditions, labels, default=np.nan)\n",
    "    return df\n",
    "\n",
    "\n",
    "tokenizer = BertTokenizer.from_pretrained('bert-base-uncased')\n",
    "model = BertModel.from_pretrained('bert-base-uncased')\n",
    "\n",
    "def vectorizador(texto : str) -> torch.Tensor:\n",
    "    # se tokeniza la oración para convertirse en una estructura BERT\n",
    "    inputs = tokenizer(texto, return_tensors='pt')\n",
    "\n",
    "    # se desactiva el calculo del gradiente\n",
    "    with torch.no_grad():\n",
    "        outputs = model(**inputs)\n",
    "    \n",
    "    # extraemos los embeddings\n",
    "    embeddings = outputs.last_hidden_state\n",
    "    return embeddings\n",
    "\n",
    "\n",
    "def obtener_embeddings(texto : str) -> np.array:\n",
    "    # Mover el modelo a GPU si está disponible\n",
    "    device = torch.device('cuda' if torch.cuda.is_available() else 'cpu')\n",
    "    model.to(device)\n",
    "\n",
    "    # Tokenización del texto y creacion de tensores\n",
    "    inputs = tokenizer(texto, return_tensors='pt', truncation=True, padding=True, max_length=128)\n",
    "    inputs = {k: v.to(device) for k, v in inputs.items()}\n",
    "\n",
    "    # Generar embeddings con BERT sin cálculo de gradientes\n",
    "    with torch.no_grad():\n",
    "        outputs = model(**inputs)\n",
    "\n",
    "    # tomar el embedding de la ultima capa\n",
    "    embeddings = outputs.last_hidden_state.mean(dim=1)\n",
    "    return embeddings.cpu().numpy()\n",
    "\n",
    "\n",
    "def get_embedding(texto : str) -> np.array:\n",
    "    # Tokenizacion y creación de tensores\n",
    "    inputs = tokenizer(texto, return_tensors='pt', padding=True, truncation=True, max_length=512)\n",
    "    with torch.no_grad(): # desactivar el calculo de gradientes\n",
    "        outputs = model(**inputs)\n",
    "        # extraer el embedding de [CLS] (índice 0)\n",
    "        embeddings = outputs.last_hidden_state[:, 0, :]\n",
    "    return embeddings.squeeze().numpy()\n"
   ]
  },
  {
   "cell_type": "code",
   "execution_count": 12,
   "metadata": {},
   "outputs": [],
   "source": [
    "netflix_pipped = (netflix_cutted\n",
    "                  .pipe(eliminar_etiquetas_html2, 'review_text', 'review_text_mod')         # Quitamos etiquetas HTML \n",
    "                  .pipe(caracteres_especiales2, 'review_text_mod', 'review_text_mod')       # limpiamos carácteres especiales\n",
    "                  .pipe(espacios_extra2, 'review_text_mod', 'review_text_mod')              # quitamos espacios extra\n",
    "                  .pipe(remove_stop_words2, 'review_text_mod', 'review_text_mod')           # Quitamos 'stopwords' (de, le, el, a, y, etc.)\n",
    "                  .pipe(lemmatizador2, 'review_text_mod', 'review_text_mod')                # Transformamos las palabras a\n",
    "                  .pipe(rating, 'review_rate', 'review_rate_class')                         # Colocamos el rate_class dependiendo del rating\n",
    "                  .pipe(rating_token, 'review_rate', 'review_rate_token'))                        "
   ]
  },
  {
   "cell_type": "code",
   "execution_count": 14,
   "metadata": {},
   "outputs": [],
   "source": [
    "#netflix_pipped['review_text_mod_embeddings'] = netflix_pipped['review_text_mod'].apply(get_embedding)"
   ]
  },
  {
   "cell_type": "markdown",
   "metadata": {},
   "source": [
    "### Pruebas Extra"
   ]
  },
  {
   "cell_type": "code",
   "execution_count": null,
   "metadata": {},
   "outputs": [
    {
     "name": "stderr",
     "output_type": "stream",
     "text": [
      "c:\\Users\\daalvarado\\CSvenv\\Lib\\site-packages\\huggingface_hub\\file_download.py:147: UserWarning: `huggingface_hub` cache-system uses symlinks by default to efficiently store duplicated files but your machine does not support them in C:\\Users\\daalvarado\\.cache\\huggingface\\hub\\models--bert-base-uncased. Caching files will still work but in a degraded version that might require more space on your disk. This warning can be disabled by setting the `HF_HUB_DISABLE_SYMLINKS_WARNING` environment variable. For more details, see https://huggingface.co/docs/huggingface_hub/how-to-cache#limitations.\n",
      "To support symlinks on Windows, you either need to activate Developer Mode or to run Python as an administrator. In order to activate developer mode, see this article: https://docs.microsoft.com/en-us/windows/apps/get-started/enable-your-device-for-development\n",
      "  warnings.warn(message)\n"
     ]
    }
   ],
   "source": [
    "tokenizer = BertTokenizer.from_pretrained('bert-base-uncased')"
   ]
  },
  {
   "cell_type": "code",
   "execution_count": null,
   "metadata": {},
   "outputs": [],
   "source": [
    "model = BertModel.from_pretrained('bert-base-uncased')"
   ]
  },
  {
   "cell_type": "code",
   "execution_count": null,
   "metadata": {},
   "outputs": [],
   "source": [
    "sentence = 'El banco está cerca del parque y también es una institución financiera.'"
   ]
  },
  {
   "cell_type": "code",
   "execution_count": null,
   "metadata": {},
   "outputs": [],
   "source": [
    "inputs = tokenizer(sentence, return_tensors='pt')"
   ]
  },
  {
   "cell_type": "code",
   "execution_count": null,
   "metadata": {},
   "outputs": [],
   "source": [
    "with torch.no_grad():\n",
    "    outputs = model(**inputs)"
   ]
  },
  {
   "cell_type": "code",
   "execution_count": null,
   "metadata": {},
   "outputs": [],
   "source": [
    "embeddings = outputs.last_hidden_state"
   ]
  },
  {
   "cell_type": "code",
   "execution_count": null,
   "metadata": {},
   "outputs": [
    {
     "data": {
      "text/plain": [
       "torch.Size([1, 26, 768])"
      ]
     },
     "execution_count": 11,
     "metadata": {},
     "output_type": "execute_result"
    }
   ],
   "source": [
    "embeddings.shape"
   ]
  },
  {
   "cell_type": "code",
   "execution_count": null,
   "metadata": {},
   "outputs": [
    {
     "data": {
      "text/plain": [
       "{'input_ids': tensor([[  101,  3449, 28678,  9765,  2050,  8292, 18992,  3972, 11968,  4226,\n",
       "          1061, 17214, 11283,  2078,  9686, 14477, 16021,  3775,  8525, 10446,\n",
       "         10346,  2319, 19562,  2050,  1012,   102]]), 'token_type_ids': tensor([[0, 0, 0, 0, 0, 0, 0, 0, 0, 0, 0, 0, 0, 0, 0, 0, 0, 0, 0, 0, 0, 0, 0, 0,\n",
       "         0, 0]]), 'attention_mask': tensor([[1, 1, 1, 1, 1, 1, 1, 1, 1, 1, 1, 1, 1, 1, 1, 1, 1, 1, 1, 1, 1, 1, 1, 1,\n",
       "         1, 1]])}"
      ]
     },
     "execution_count": 13,
     "metadata": {},
     "output_type": "execute_result"
    }
   ],
   "source": [
    "inputs"
   ]
  },
  {
   "cell_type": "code",
   "execution_count": null,
   "metadata": {},
   "outputs": [],
   "source": []
  }
 ],
 "metadata": {
  "kernelspec": {
   "display_name": "CSvenv",
   "language": "python",
   "name": "python3"
  },
  "language_info": {
   "codemirror_mode": {
    "name": "ipython",
    "version": 3
   },
   "file_extension": ".py",
   "mimetype": "text/x-python",
   "name": "python",
   "nbconvert_exporter": "python",
   "pygments_lexer": "ipython3",
   "version": "3.11.4"
  }
 },
 "nbformat": 4,
 "nbformat_minor": 2
}
